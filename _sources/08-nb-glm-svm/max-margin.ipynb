{
 "cells": [
  {
   "cell_type": "markdown",
   "metadata": {},
   "source": [
    "# Hyperplane and maximum margin classifier\n",
    "\n",
    "This section introduces the concept of hyperplane and maximum margin classifier, which are the fundamental concepts of support vector machine (SVM). Hyperplanes are used to separate the data points by their class labels. The margin is the distance between the hyperplane and the nearest data points. The maximum margin classifier is a special case of the support vector machine (SVM) classifier. \n",
    "\n",
    "Watch the 11-minute video below for a visual explanation of maximum margin, soft margin, and support vector classifier.\n",
    "\n",
    "```{admonition} Video\n",
    "<iframe width=\"700\" height=\"394\" src=\"https://www.youtube.com/embed/efR1C6CvhmE?start=40&end=743\" title=\"YouTube video player\" frameborder=\"0\" allow=\"accelerometer; autoplay; clipboard-write; encrypted-media; gyroscope; picture-in-picture\" allowfullscreen></iframe>\n",
    "\n",
    "[Explaining maximum margin, soft margin, and support vector classifier, by StatQuest](https://www.youtube.com/embed/efR1C6CvhmE?start=40&end=743)\n",
    "```\n",
    "\n",
    "## Hyperplane for classification\n",
    "\n",
    "In this section, we define a hyperplane and introduce the concept of an optimal separating hyperplane.\n",
    "\n",
    "In a $D$-dimensional space, a hyperplane is a flat affine subspace of dimension $D − 1$. For instance, in two dimensions, a hyperplane is a flat one-dimensional subspace—in other words, a line. In three dimensions, a hyperplane is a flat two-dimensional subspace—that is, a plane. In $D > 3$ dimensions, it can be hard to visualise a hyperplane, but the notion of a $(D − 1)$-dimensional flat subspace still applies.\n",
    "\n",
    "The mathematical definition of a hyperplane is quite simple. In two dimensions, a hyperplane is defined by the equation,\n",
    "\n",
    "$$\n",
    "\\beta_0 + \\beta_1 x_1 + \\beta_2 x_2 = 0\n",
    "$$\n",
    "\n",
    "where $\\beta_0, \\beta_1, \\beta_2$ are parameters. When we say that the above equation “defines” the hyperplane, we mean that any $\\mathbf{x} = [x_1, x_2]^\\top $ satisfies the equation is a point on the hyperplane. Note the equation above is simply the equation of a line, since indeed in two dimensions a hyperplane is a line. In the $D$-dimensional case, the equation defining a hyperplane is\n",
    "\n",
    "$$\n",
    "\\beta_0 + \\beta_1 x_1 + \\beta_2 x_2 + \\cdots + \\beta_D x_D = 0\n",
    "$$\n",
    "\n",
    "where $\\beta_0, \\beta_1, \\beta_2, \\ldots, \\beta_D$ are parameters. In this equation, any $\\mathbf{x} = [x_1, x_2, \\ldots, x_D]^\\top$ satisfies the above equation is a point on the hyperplane. If $\\mathbf{x} $ does not satisfy the equation, e.g.\n",
    "\n",
    "$$\n",
    "\\beta_0 + \\beta_1 x_1 + \\beta_2 x_2 + \\cdots + \\beta_D x_D > 0\n",
    "$$\n",
    "\n",
    "then $\\mathbf{x} $ is on one side of the hyperplane, and if\n",
    "\n",
    "$$\n",
    "\\beta_0 + \\beta_1 x_1 + \\beta_2 x_2 + \\cdots + \\beta_D x_D < 0\n",
    "$$\n",
    "\n",
    "then $\\mathbf{x} $ is on the other side of the hyperplane. So we can think of the hyperplane as dividing $D$-dimensional space into two halves. One can easily determine on which side of the hyperplane a point lies by simply calculating\n",
    "the sign of the left hand side of the hyperplane equation. \n",
    "\n",
    "\n",
    "### Classification Using a Separating Hyperplane\n",
    "\n",
    "Suppose we have a set of observations $\\mathbf{x}_1, \\mathbf{x}_2, \\ldots, \\mathbf{x}_N$ in $D$-dimensional space\n",
    "\n",
    "$$\n",
    "\\mathbf{x}_1 = \\begin{bmatrix} x_{11} \\\\ x_{12} \\\\ \\vdots \\\\ x_{1D} \\end{bmatrix}, \\ldots, \\mathbf{x}_N = \\begin{bmatrix} x_{N1} \\\\ x_{N2} \\\\ \\vdots \\\\ x_{ND} \\end{bmatrix},\n",
    "$$\n",
    "\n",
    "and that these observations fall into two classes, $y_1, \\ldots, y_N \\in \\{-1, 1\\}$, where 1 represents one class and -1 the other class. We also have a test observation $ \\mathbf{x}^* = [x^*_1, \\ldots, x^*_N]^\\top$ that we would like to classify. We can do so by finding the hyperplane that separates the two classes. Such a hyperplane is known as an separating hyperplane. {numref}`svm1` shows a hyperplane in two dimensions.\n",
    "\n",
    "```{figure} https://raw.githubusercontent.com/pykale/transparentML/main/content/images/svm/svm1.png\n",
    "---\n",
    "width: 400px\n",
    "name: svm1\n",
    "figclass: margin-caption\n",
    "---\n",
    "The hyperplane $1 + 2x_1 + 3x_2 = 0$ is shown. The blue region is the set of points for which $1 + 2x_1 + 3x_2 > 0$, and the purple region is the set of points for which $1 + 2x_1 + 3x_2$ < 0 (source of figures in this section: [https://trevorhastie.github.io/ISLR/](https://trevorhastie.github.io/ISLR/)).\n",
    "```\n",
    "\n",
    "We can label the observations from the blue class as $ y_n = 1 $ and those from the purple class as $ y_n = −1 $. Then a separating hyperplane has the property that\n",
    "\n",
    "$$\n",
    "\\beta_0 + \\beta_1 x_{n1} + \\beta_2 x_{n2} + \\cdots + \\beta_D x_{nD} > 0, \\text{ if } y_n = 1\n",
    "$$\n",
    "\n",
    "and\n",
    "\n",
    "$$\n",
    "\\beta_0 + \\beta_1 x_{n1} + \\beta_2 x_{n2} + \\cdots + \\beta_D x_{nD} < 0, \\text{ if } y_n = -1.\n",
    "$$\n",
    "\n",
    "Equivalently, we can write this as\n",
    "\n",
    "$$\n",
    "y_n(\\beta_0 + \\beta_1 x_{n1} + \\beta_2 x_{n2} + \\cdots + \\beta_D x_{nD}) > 0, \\text{ for } n = 1, \\ldots, N.\n",
    "$$\n",
    "\n",
    "```{figure} https://raw.githubusercontent.com/pykale/transparentML/main/content/images/svm/svm2.png\n",
    "---\n",
    "width: 700px\n",
    "name: svm2\n",
    "figclass: margin-caption\n",
    "---\n",
    "Two classes of observations are shown in blue and in purple, respectively. Left: Three separating hyperplanes, out of many possible, are shown in black. Right: A separating hyperplane is shown in black. The blue and purple grid indicates the decision rule made by a classifier based on this separating hyperplane: a test observation that falls in the blue portion of the grid will be assigned to the blue class, and one that falls in the purple portion of the grid will be assigned to the purple class.\n",
    "```\n",
    "\n",
    "A shown in {numref}`svm2`, if a separating hyperplane exists, we can use it to construct a very natural classifier: a test observation is assigned a class depending on which side of the hyperplane it is located. \n",
    "\n",
    "### The maximum margin classifier (hard margin)\n",
    "\n",
    "In general, if the data can be perfectly separated using a hyperplane, then there will in fact exist an infinite number of such hyperplanes. This is because a given separating hyperplane can usually be shifted a tiny bit up or down, or rotated, without coming into contact with any of the observations.\n",
    "\n",
    "A natural choice is the _maximal margin hyperplane_ (also known as the optimal separating hyperplane), which is the separating hyperplane that is farthest from the training observations. That is, we can compute the (perpendicular) distance from each training observation to a given separating hyperplane; the smallest such distance is the minimal distance from the observations to the hyperplane, and is known as the margin. The maximal margin hyperplane is the separating hyperplane for which the margin is margin largest—that is, it is the hyperplane that has the farthest minimum distance to the training observations. We can then classify a test observation based on which side of the maximal margin hyperplane it lies. This is known as the maximal margin classifier. We hope that a classifier that has a large margin on the training data will also have a large margin on the test data, and hence will classify the test observations correctly. \n",
    "\n",
    "```{figure} https://raw.githubusercontent.com/pykale/transparentML/main/content/images/svm/svm3.png\n",
    "---\n",
    "width: 400px\n",
    "name: svm3\n",
    "figclass: margin-caption\n",
    "---\n",
    "Two classes of observations are shown in blue and in purple, respectively. The maximal margin hyperplane is shown as a solid line. The margin is the distance from the solid line to either of the dashed lines. The two blue points and the purple point that lie on the dashed lines are the support vectors, and the distance from those points to the hyperplane is indicated by arrows. The purple and blue grid indicates the decision rule made by a classifier based on this separating hyperplane.\n",
    "```\n",
    "\n",
    "{numref}`svm3` shows a maximal margin hyperplane. Comparing to the right-hand panel of {numref}`svm2`, we see that the maximal margin hyperplane in {numref}`svm3` results in a greater minimal distance between the observations and the separating hyperplane—that is, a larger margin. We can also see that three training observations are equidistant from the maximal margin hyperplane and lie along the dashed lines indicating the width of the margin. These three observations are known as _support vectors_, and the distance from the support vectors to the hyperplane is known as the _margin width_.\n",
    "\n",
    "### Construction of maximum margin classifier\n",
    "\n",
    "The maximal margin hyperplane is the solution to the following optimisation problem\n",
    "\n",
    "```{math}\n",
    ":label: eq:max-margin-classifier\n",
    "\\begin{aligned}\n",
    "& \\max_{\\beta_0, \\beta_1, \\ldots, \\beta_D} M \\\\\n",
    "& \\text{subject to } \\sum_{d=1}^D \\beta_d^2 = 1 ,\\\\\n",
    "& y_n(\\beta_0 + \\beta_1 x_{n1} + \\beta_2 x_{n2} + \\cdots + \\beta_D x_{nD}) \\geq M, \\text{ for } n = 1, \\ldots, N.\n",
    "\\end{aligned}\n",
    "```\n",
    "\n",
    "where $ y_n(\\beta_0 + \\beta_1 x_{n1} + \\beta_2 x_{n2} + \\cdots + \\beta_D x_{nD}) $ in the constraint represents the perpendicular distance from the $i\\text{th}$ observation to the hyperplane. This constraint guarantees that each observation is on the correct side of the hyperplane and at least a distance $ M $ from the hyperplane. Therefore, $M$ represents the margin of our hyperplane, and the optimisation problem chooses $ \\beta_0, \\beta_1, \\ldots, \\beta_D $ to maximise M. This is exactly the definition of the maximal margin hyperplane! The problem {eq}`eq:max-margin-classifier` can be solved efficiently via quadratic programming, but details of this optimisation are outside of the scope of this course."
   ]
  },
  {
   "cell_type": "markdown",
   "metadata": {},
   "source": [
    "## Support vector classifier (soft margin)\n",
    "\n",
    "### The non-separable case\n",
    "\n",
    "The maximal margin classifier is a very natural way to perform classification, if a separating hyperplane exists. However, in many cases no separating hyperplane exists, and so there is no maximal margin classifier, as shown in {numref}`svm4`. \n",
    "\n",
    "```{figure} https://raw.githubusercontent.com/pykale/transparentML/main/content/images/svm/svm4.png\n",
    "---\n",
    "width: 400px\n",
    "name: svm4\n",
    "figclass: margin-caption\n",
    "---\n",
    "Two classes of observations are shown in blue and in purple, respectively. The two classes are not separable by a hyperplane, and so the maximal margin classifier cannot be used.\n",
    "```\n",
    "\n",
    "In this case, we might be willing to consider allowing some observations to be on the incorrect side of the margin, or even the incorrect side of the hyperplane, rather than seeking the largest possible margin so that every observation is not only on the correct side of the hyperplane but also on the correct side of the margin. This is the idea behind the _support vector classifier_, also known as the _soft margin classifier_.\n",
    "\n",
    "```{figure} https://raw.githubusercontent.com/pykale/transparentML/main/content/images/svm/svm5.png\n",
    "---\n",
    "width: 700px\n",
    "name: svm5\n",
    "figclass: margin-caption\n",
    "---\n",
    "Left: Two classes of observations are shown in blue and in purple, along with the maximal margin hyperplane. Right: An additional blue observation has been added, leading to a dramatic shift in the maximal margin hyperplane shown as a solid line. The dashed line indicates the maximal margin hyperplane that was obtained in the absence of this additional point.\n",
    "```\n",
    "\n",
    "An example is shown in the left-hand panel of {numref}`svm5`. Most of the observations are on the correct side of the margin.\n",
    "However, a small subset of the observations are on the wrong side of the margin.\n",
    "\n",
    "An observation can be not only on the wrong side of the margin, but also on the wrong side of the hyperplane. In fact, when there is no separating hyperplane, such a situation is inevitable. Observations on the wrong side of the hyperplane correspond to training observations that are misclassified by the support vector classifier. The right-hand panel of {numref}`svm5` illustrates\n",
    "such a scenario.\n",
    "\n",
    "```{figure} https://raw.githubusercontent.com/pykale/transparentML/main/content/images/svm/svm6.png\n",
    "---\n",
    "width: 700px\n",
    "name: svm6\n",
    "figclass: margin-caption\n",
    "---\n",
    "Left: A support vector classifier was fit to a small data set. The hyperplane is shown as a solid line and the margins are shown as dashed lines. Purple observations: Observations 3, 4, 5, and 6 are on the correct side of the margin, observation 2 is on the margin, and observation 1 is on the wrong side of the margin. Blue observations: Observations 7 and 10 are on the correct side of the margin, observation 9 is on the margin, and observation 8 is on the wrong side of the margin. No observations are on the wrong side of the hyperplane. Right: Same as left panel with two additional points, 11 and 12. These two observations are on the wrong side of the hyperplane and the wrong side of the margin.\n",
    "```\n",
    "\n",
    "### Construction of support vector classifier\n",
    "\n",
    "The support vector classifier classifies a test observation depending on which side of a hyperplane it lies. The hyperplane is chosen to correctly separate most of the training observations into the two classes, but may misclassify a few observations. It is the solution to the optimisation problem\n",
    "\n",
    "```{math}\n",
    ":label: eq:soft-margin-classifier\n",
    "\\begin{aligned}\n",
    "& \\max_{\\beta_0, \\beta_1, \\ldots, \\beta_D, \\epsilon_1, \\ldots, \\epsilon_N} M \\\\\n",
    "& \\text{subject to } \\sum_{d=1}^D \\beta_d^2 = 1 ,\\\\\n",
    "& y_n(\\beta_0 + \\beta_1 x_{n1} + \\beta_2 x_{n2} + \\cdots + \\beta_D x_{nD}) \\geq M(1 - \\epsilon_n),\\\\\n",
    "& \\epsilon_n \\geq 0, \\sum_{n = 1}^N \\epsilon_n \\leq C, \\text{ for } n = 1, \\ldots, N,\n",
    "\\end{aligned}\n",
    "```\n",
    "\n",
    "where $ \\epsilon_n $ is a slack variable that measures the amount by which the $i\\text{th}$ observation is on the wrong side of the margin. The slack variables are constrained to be non-negative, and the constraint $ \\sum_{n = 1}^N \\epsilon_n \\leq C $ places an upper bound on the total amount by which the observations can be on the wrong side of the margin. The parameter $ C $ is a tuning parameter that controls the trade-off between the two competing goals of the support vector classifier: maximizing the margin and minimizing the number of training observations that are misclassified. When $ C $ is very large, the support vector classifier will attempt to maximise the margin, and so it will misclassify very few training observations. When $ C $ is very small, the support vector classifier will attempt to minimise the number of training observations that are misclassified, and so it will have a smaller margin. In practice, $ C $ is often tuned using cross-validation. {numref}`svm7` illustrates the effect of $ C $ on the support vector classifier.\n",
    "\n",
    "```{figure} https://raw.githubusercontent.com/pykale/transparentML/main/content/images/svm/svm7.png\n",
    "---\n",
    "width: 700px\n",
    "name: svm7\n",
    "figclass: margin-caption\n",
    "---\n",
    "A support vector classifier was fit using four different values of the tuning parameter $ C $ of Equation {eq}`eq:soft-margin-classifier`. The largest value of $ C $ was used in the top left panel, and smaller values were used in the top right, bottom left, and bottom right panels. When $ C $ is large, then there is a high tolerance for observations being on the wrong side of the margin, and so the margin will be large. As $ C $ decreases, the tolerance for observations being on the wrong side of the margin decreases, and the margin narrows."
   ]
  },
  {
   "cell_type": "markdown",
   "metadata": {},
   "source": [
    "## Example: support vector classifiers on toy data using `scikit-learn`\n",
    "\n",
    "Import the required libraries"
   ]
  },
  {
   "cell_type": "code",
   "execution_count": null,
   "metadata": {},
   "outputs": [],
   "source": [
    "import pandas as pd\n",
    "import numpy as np\n",
    "import matplotlib.pyplot as plt\n",
    "import seaborn as sns\n",
    "\n",
    "from sklearn.preprocessing import label_binarize\n",
    "from sklearn.model_selection import train_test_split, GridSearchCV\n",
    "from sklearn.svm import SVC, LinearSVC\n",
    "from sklearn.discriminant_analysis import LinearDiscriminantAnalysis\n",
    "from sklearn.metrics import (\n",
    "    confusion_matrix,\n",
    "    ConfusionMatrixDisplay,\n",
    "    roc_curve,\n",
    "    auc,\n",
    "    classification_report,\n",
    ")\n",
    "\n",
    "%matplotlib inline"
   ]
  },
  {
   "cell_type": "markdown",
   "metadata": {},
   "source": [
    "Define a function to plot a classifier with support vectors."
   ]
  },
  {
   "cell_type": "code",
   "execution_count": null,
   "metadata": {},
   "outputs": [],
   "source": [
    "def plot_svc(svc, X, y, h=0.02, pad=0.25, show=True):\n",
    "    x_min, x_max = X[:, 0].min() - pad, X[:, 0].max() + pad\n",
    "    y_min, y_max = X[:, 1].min() - pad, X[:, 1].max() + pad\n",
    "    xx, yy = np.meshgrid(np.arange(x_min, x_max, h), np.arange(y_min, y_max, h))\n",
    "    Z = svc.predict(np.c_[xx.ravel(), yy.ravel()])\n",
    "    Z = Z.reshape(xx.shape)\n",
    "    plt.contourf(xx, yy, Z, cmap=plt.cm.Paired, alpha=0.2)\n",
    "\n",
    "    plt.scatter(X[:, 0], X[:, 1], s=70, c=y, cmap=plt.cm.Paired)\n",
    "    # Support vectors indicated in plot by vertical lines\n",
    "    sv = svc.support_vectors_\n",
    "    plt.scatter(\n",
    "        sv[:, 0], sv[:, 1], c=\"k\", marker=\"x\", s=100, alpha=0.5\n",
    "    )  # , linewidths=1)\n",
    "    plt.xlim(x_min, x_max)\n",
    "    plt.ylim(y_min, y_max)\n",
    "    plt.xlabel(\"X1\")\n",
    "    plt.ylabel(\"X2\")\n",
    "    print(\"Number of support vectors: \", svc.support_.size)\n",
    "    if show:\n",
    "        plt.show()"
   ]
  },
  {
   "cell_type": "markdown",
   "metadata": {},
   "source": [
    "Generating random data: 20 observations of 2 features and divide into two classes."
   ]
  },
  {
   "cell_type": "code",
   "execution_count": null,
   "metadata": {},
   "outputs": [],
   "source": [
    "np.random.seed(5)\n",
    "X = np.random.randn(20, 2)\n",
    "y = np.repeat([1, -1], 10)\n",
    "\n",
    "X[y == -1] = X[y == -1] + 1\n",
    "plt.scatter(X[:, 0], X[:, 1], s=70, c=y, cmap=plt.cm.Paired)\n",
    "plt.xlabel(\"X1\")\n",
    "plt.ylabel(\"X2\")\n",
    "plt.show()"
   ]
  },
  {
   "cell_type": "code",
   "execution_count": null,
   "metadata": {},
   "outputs": [],
   "source": [
    "y"
   ]
  },
  {
   "cell_type": "markdown",
   "metadata": {},
   "source": [
    "Fit a support vector classifier and visualise decision boundary and support vectors with data points. Different values of hyper-parameter $C$ described in Equation {eq}`eq:soft-margin-classifier` are used to see the effect of $C$ on the decision boundary."
   ]
  },
  {
   "cell_type": "code",
   "execution_count": null,
   "metadata": {},
   "outputs": [],
   "source": [
    "svc = SVC(C=1.0, kernel=\"linear\")\n",
    "svc.fit(X, y)\n",
    "\n",
    "plot_svc(svc, X, y, show=False)\n",
    "plt.scatter(\n",
    "    X[5, 0], X[5, 1], s=70, facecolors=\"none\", marker=\"o\", edgecolors=\"k\", linewidths=3\n",
    ")\n",
    "plt.show()"
   ]
  },
  {
   "cell_type": "code",
   "execution_count": null,
   "metadata": {},
   "outputs": [],
   "source": [
    "print(\"Input: \", X[5, :])\n",
    "print(\"Intercept: \", svc.intercept_[0], \" Coefficients: \", svc.coef_[0])\n",
    "print(\"Prediction score: \", svc.decision_function(X[5, :].reshape(1, -1))[0])\n",
    "print(\"Prediction: \", svc.predict(X[5, :].reshape(1, -1))[0])"
   ]
  },
  {
   "cell_type": "markdown",
   "metadata": {},
   "source": [
    "```{admonition} System transparency\n",
    ":class: important\n",
    "\n",
    "The coefficients of the support vector classifier are $ \\beta_0 \\approx 0.5729, \\beta_1 \\approx -0.7327, \\beta_2 \\approx -0.7033 $\n",
    "\n",
    "- The data point $[-1.19276461, -0.20487651]$ marked by a black circle, its prediction score is $ -0.7327 \\times -1.19276461 + -0.7033 \\times -0.20487651 + 0.5729 \\approx 1.5910 $, which is positive. The predicted label is $ 1 $.\n",
    "\n",
    "- According to the definition, the data points on the hyperplane satisfies $ \\beta_0 + \\beta_1 x_{1} + \\beta_2 x_{2} = 0 $, i.e. $ 0.5729 -0.7327 \\times x_1 -0.7033 \\times x_2 = 0 $. To get a data point $ \\mathbf{x} = [x_1, x_2]^\\top $ of class $ 1 $, the relationship between $ x_1 $ and $ x_2 $ should satisfy:\n",
    "\n",
    "\\begin{align}\n",
    "\\begin{aligned}\n",
    "\\beta_0 + \\beta_1 x_{1} + \\beta_2 x_{2} & > 0 \\\\\n",
    "\\beta_1 x_{1} & > - \\beta_0 - \\beta_2 x_{2} \\\\\n",
    "x_{1} & > \\frac{- \\beta_0 - \\beta_2 x_{2}}{\\beta_1} \\\\\n",
    "x_{1} & > \\frac{- 0.5729 - (-0.7033 \\times x_2)}{-0.7327} \\\\\n",
    "x_1 & > 0.7819 - 0.9598 \\times x_2.\n",
    "\\end{aligned}\n",
    "\\end{align}\n",
    "\n",
    "Similarly, we need data points $ \\mathbf{x} = [x_1, x_2]^\\top $ satisfy $ x_1 < 0.7819 - 0.9598 \\times x_2 $ for class $ -1 $. Note that the data point $ \\mathbf{x} = [x_1, x_2]^\\top $ belongs to class $ 1 $ but violates the margin if $ 0 < 0.5729 -0.7327 \\times x_1 -0.7033 \\times x_2 < 1 $, and the same applies to data points belongs to class $ -1 $ if $ -1 < 0.5729 -0.7327 \\times x_1 -0.7033 \\times x_2 < 0 $.\n",
    "```"
   ]
  },
  {
   "cell_type": "code",
   "execution_count": null,
   "metadata": {},
   "outputs": [],
   "source": [
    "svc2 = SVC(C=0.1, kernel=\"linear\")\n",
    "svc2.fit(X, y)\n",
    "plot_svc(svc2, X, y)"
   ]
  },
  {
   "cell_type": "markdown",
   "metadata": {},
   "source": [
    "When using a smaller cost parameter ($C=0.1$) the margin is wider, resulting in more support vectors. We can select the optimal hyper-parameter $C$ by cross-validation:"
   ]
  },
  {
   "cell_type": "code",
   "execution_count": null,
   "metadata": {
    "tags": [
     "hide-output"
    ]
   },
   "outputs": [],
   "source": [
    "tuned_parameters = [{\"C\": [0.001, 0.01, 0.1, 1, 5, 10, 100]}]\n",
    "clf = GridSearchCV(\n",
    "    SVC(kernel=\"linear\"),\n",
    "    tuned_parameters,\n",
    "    cv=10,\n",
    "    scoring=\"accuracy\",\n",
    "    return_train_score=True,\n",
    ")\n",
    "clf.fit(X, y)\n",
    "clf.cv_results_"
   ]
  },
  {
   "cell_type": "markdown",
   "metadata": {},
   "source": [
    "Display the optimal hyper-parameter $C$"
   ]
  },
  {
   "cell_type": "code",
   "execution_count": null,
   "metadata": {},
   "outputs": [],
   "source": [
    "clf.best_params_"
   ]
  },
  {
   "cell_type": "markdown",
   "metadata": {},
   "source": [
    "Generate a test data set and predict the class labels for the test data set."
   ]
  },
  {
   "cell_type": "code",
   "execution_count": null,
   "metadata": {},
   "outputs": [],
   "source": [
    "np.random.seed(1)\n",
    "X_test = np.random.randn(20, 2)\n",
    "y_test = np.random.choice([-1, 1], 20)\n",
    "X_test[y_test == 1] = X_test[y_test == 1] - 1\n",
    "\n",
    "plt.scatter(X_test[:, 0], X_test[:, 1], s=70, c=y_test, cmap=plt.cm.Paired)\n",
    "plt.xlabel(\"X1\")\n",
    "plt.ylabel(\"X2\")\n",
    "plt.show()"
   ]
  },
  {
   "cell_type": "code",
   "execution_count": null,
   "metadata": {},
   "outputs": [],
   "source": [
    "# svc2 : C = 0.1\n",
    "y_pred = svc2.predict(X_test)\n",
    "cm = confusion_matrix(y_test, y_pred)\n",
    "disp = ConfusionMatrixDisplay(confusion_matrix=cm, display_labels=svc.classes_)\n",
    "disp.plot()\n",
    "plt.show()"
   ]
  },
  {
   "cell_type": "code",
   "execution_count": null,
   "metadata": {},
   "outputs": [],
   "source": [
    "svc3 = SVC(C=0.001, kernel=\"linear\")\n",
    "svc3.fit(X, y)\n",
    "\n",
    "# svc3 : C = 0.001\n",
    "y_pred = svc3.predict(X_test)\n",
    "cm = confusion_matrix(y_test, y_pred)\n",
    "disp = ConfusionMatrixDisplay(confusion_matrix=cm, display_labels=svc.classes_)\n",
    "disp.plot()\n",
    "plt.show()\n",
    "# The misclassification is the same"
   ]
  },
  {
   "cell_type": "markdown",
   "metadata": {},
   "source": [
    "Changing the test data so that the classes are really separable with a hyperplane."
   ]
  },
  {
   "cell_type": "code",
   "execution_count": null,
   "metadata": {},
   "outputs": [],
   "source": [
    "X_test[y_test == 1] = X_test[y_test == 1] - 1\n",
    "plt.scatter(X_test[:, 0], X_test[:, 1], s=70, c=y_test, cmap=plt.cm.Paired)\n",
    "plt.xlabel(\"X1\")\n",
    "plt.ylabel(\"X2\")\n",
    "plt.show()"
   ]
  },
  {
   "cell_type": "code",
   "execution_count": null,
   "metadata": {},
   "outputs": [],
   "source": [
    "svc4 = SVC(C=10.0, kernel=\"linear\")\n",
    "svc4.fit(X_test, y_test)\n",
    "plot_svc(svc4, X_test, y_test)"
   ]
  },
  {
   "cell_type": "code",
   "execution_count": null,
   "metadata": {},
   "outputs": [],
   "source": [
    "# Increase the margin. Now there is one misclassification: increased bias, lower variance.\n",
    "svc5 = SVC(C=1, kernel=\"linear\")\n",
    "svc5.fit(X_test, y_test)\n",
    "plot_svc(svc5, X_test, y_test)"
   ]
  },
  {
   "cell_type": "markdown",
   "metadata": {},
   "source": [
    "## Exercises\n",
    "\n",
    "min 3 max 5\n",
    "\n"
   ]
  }
 ],
 "metadata": {
  "kernelspec": {
   "display_name": "Python 3 (ipykernel)",
   "language": "python",
   "name": "python3"
  }
 },
 "nbformat": 4,
 "nbformat_minor": 2
}
