{
 "cells": [
  {
   "cell_type": "markdown",
   "metadata": {},
   "source": [
    "# Support vector machines\n",
    "\n",
    "This section introduces [support vector machines (SVMs)](https://en.wikipedia.org/wiki/Support_vector_machine) for nonlinear classification. \n",
    "\n",
    "Watch the 9-minute video below for a visual explanation of nonlinear (polynomial) kernel and SVM.\n",
    "\n",
    "```{admonition} Video\n",
    "<iframe width=\"700\" height=\"394\" src=\"https://www.youtube.com/embed/efR1C6CvhmE?start=744&end=1205\" title=\"YouTube video player\" frameborder=\"0\" allow=\"accelerometer; autoplay; clipboard-write; encrypted-media; gyroscope; picture-in-picture\" allowfullscreen></iframe>\n",
    "\n",
    "[Explaining nonlinear (polynomial) kernel and SVM by StatQuest](https://www.youtube.com/embed/efR1C6CvhmE?start=744&end=1205), embedded according to [YouTube's Terms of Service](https://www.youtube.com/static?gl=CA&template=terms).\n",
    "```\n",
    "\n",
    "<!-- ## Nonlinear boundaries and kernel methods -->\n",
    "\n",
    "## Classification with nonlinear decision boundaries\n",
    "\n",
    "In binary classification, if the boundary between the two classes is linear, the [support vector classifier](https://pykale.github.io/transparentML/08-glm-svm/support-vec-classifier.html) is a natural approach. However, in practice, two classes may have nonlinear boundaries between them, as the example shown in the left panel of {numref}`svm8` below. \n",
    "\n",
    "<!-- figclass: margin-caption -->\n",
    "```{figure} https://raw.githubusercontent.com/pykale/transparentML/main/content/images/svm/svm8.png\n",
    "---\n",
    "width: 700px\n",
    "name: svm8\n",
    "---\n",
    "Left: The observations fall into two classes, with a nonlinear boundary between them. Right: The support vector classifier seeks a linear boundary, and consequently performs very poorly.\n",
    "```\n",
    "\n",
    "In {doc}`Linear regression <../02-linear-reg/extension-limitation>`, we discussed using higher-order polynomials as a way to fit a nonlinear relationship between the input features (predictors) and the output (response). Likewise, rather than fitting a support vector classifier using $D$ features: $ x_{1}, x_{2}, \\cdots, x_{D} $, we could fit a support vector classifier using $ 2 \\times D $ features: $ x_{1}, x_{2}, \\cdots, x_{D'}, x_{1}^2, x_{2}^2, \\cdots, x_{D'}^2 $. Then the optimisation problem becomes\n",
    "\n",
    "```{math}\n",
    ":label: eq:svm-polynomial\n",
    "\\begin{aligned}\n",
    "& \\max_{\\beta_0, \\beta_{1,1}, \\cdots, \\beta_{D,2}, \\epsilon_1, \\cdots, \\epsilon_N} M \\\\\n",
    "& \\text{subject to } y_n \\left(\\beta_0 + \\sum_{d = 1}^{D} \\left(\\beta_{d,1} x_{nd} + \\beta_{d,2} x_{nd}^2\\right)\\right) \\geq M(1 - \\epsilon_n), \\\\\n",
    "& \\sum_{d = 1}^{D} \\left(\\beta_{d,1}^2 + \\beta_{d,2}^2\\right) = 1, \\epsilon_n \\geq 0, \\sum_{n = 1}^N \\epsilon_n \\leq \\Omega, \\text{ for } n =  1, \\cdots, N.\n",
    "\\end{aligned}\n",
    "```\n",
    "\n",
    "The decision boundary that results from Equation {eq}`eq:svm-polynomial` is in fact linear in the enlarged (augmented) features space of 2D features. But in the original feature space of $D$ features, the decision boundary is of the form $ q(\\mathbf{x}) = 0 $, where $ q(\\cdot) $ is a quadratic polynomial, so its solutions are generally nonlinear.\n",
    "\n",
    "\n",
    "## Kernel methods\n",
    "\n",
    "The _support vector machine (SVM)_ extends the support vector classifier by enlarging the feature space in a specific way, using _kernels_. As in the above example of using quadratic terms, the main idea is to enlarge the feature space in order to accommodate a nonlinear boundary between the classes. The kernel approach is simply a computationally efficient approach for this idea.\n",
    "\n",
    "Exactly how the support vector classifier is computed is too technical to cover here. One fact from the solution to support vector classifier problem {eq}`eq:soft-margin-classifier` is that it involves only the _inner products_ of the input features (observations), as opposed to the features themselves. \n",
    "\n",
    "```{margin}\n",
    "Mathematical details can be found [here](https://scikit-learn.org/stable/modules/svm.html#svc)\n",
    "```\n",
    "\n",
    "The inner product of two $D$-vectors $\\mathbf{a}$ and $\\mathbf{b}$ is defined as $⟨\\mathbf{a}, \\mathbf{b}⟩ = \\sum_{d = 1}^{D} a_d b_d $. Thus, the inner product of two observations $\\mathbf{x}_n$ and $\\mathbf{x}_{n'}$ is $⟨\\mathbf{x}_n, \\mathbf{x}_{n'}⟩ = \\sum_{d = 1}^{D} x_{nd} x_{n'd} $. As a result, the linear support vector classifier can be written as\n",
    "\n",
    "```{math}\n",
    ":label: eq:svm-inner-product\n",
    "\\begin{equation}\n",
    "f(\\mathbf{x}) = \\beta_0 + \\sum_{n = 1}^{N} \\alpha_n  ⟨\\mathbf{x}, \\mathbf{x}_n⟩,\n",
    "\\end{equation}\n",
    "```\n",
    "where there are $N$ parameters $\\alpha_n, \\text{ for } n =  1, \\cdots N $, one per training observation (sample). To estimate the parameters $\\{\\alpha_n\\}$, all we need are the inner products of the training observations. The inner product can be denoted in the following generalised form:\n",
    "\n",
    "$$\n",
    "⟨\\mathbf{x}_n, \\mathbf{x}_{n'}⟩ =k(\\mathbf{x}_n, \\mathbf{x}_{n'}),\n",
    "$$\n",
    "\n",
    "where $ k(\\cdot, \\cdot) $ is a _kernel_ function that quantifies the similarity between two observations. For instance, we could simply take\n",
    "\n",
    "$$\n",
    "k(\\mathbf{x}_n, \\mathbf{x}_{n'}) = \\sum_{d=1}^{D} x_{nd} x_{n'd},\n",
    "$$\n",
    "\n",
    "which is the _linear kernel_ for the support vector classifier. \n",
    "\n",
    "More flexibly, we could also take\n",
    "\n",
    "$$\n",
    "k(\\mathbf{x}_n, \\mathbf{x}_{n'}) = \\left(1 + \\sum_{d = 1}^{D} x_{nd} x_{n'd}\\right)^{\\tilde{d}},\n",
    "$$\n",
    "\n",
    "which is known as a [_polynomial kernel_](https://en.wikipedia.org/wiki/Polynomial_kernel) of degree $ \\tilde{d} $ (a positive integer). Another popular choice is the [radial basis function (RBF) kernel](https://en.wikipedia.org/wiki/Radial_basis_function_kernel) or simply _radial kernel_, which takes the form\n",
    "\n",
    "$$\n",
    "k(\\mathbf{x}_n, \\mathbf{x}_{n'}) = \\exp\\left(-\\gamma \\sum_{d = 1}^{D} (x_{nd} - x_{n'd})^2\\right),\n",
    "$$\n",
    "\n",
    "where $ \\gamma > 0 $ is a positive tuning parameter, i.e. hyperparameter. The radial kernel is also known as the _Gaussian kernel_. {numref}`svm9` below shows the decision boundaries obtained from using the polynomial (left) and radial kernels (right).\n",
    "\n",
    "<!-- figclass: margin-caption -->\n",
    "```{figure} https://raw.githubusercontent.com/pykale/transparentML/main/content/images/svm/svm9.png\n",
    "---\n",
    "width: 700px\n",
    "name: svm9 \n",
    "---\n",
    "Left: An SVM with a polynomial kernel of degree 3 is applied to the nonlinear data from {numref}`svm8`, resulting in a far more appropriate decision rule. Right: An SVM with a radial kernel is applied. In this example, either kernel is capable of capturing the decision boundary.\n",
    "```\n",
    "\n",
    "When the support vector classifier is combined with a nonlinear kernel, the resulting classifier is known as a support vector machine:\n",
    "\n",
    "```{math}\n",
    ":label: eq:svm\n",
    "\\begin{equation}\n",
    "f(\\mathbf{x}) = \\beta_0 + \\sum_{n = 1}^{N} \\alpha_n k(\\mathbf{x}, \\mathbf{x}_n).\n",
    "\\end{equation}"
   ]
  },
  {
   "cell_type": "markdown",
   "metadata": {},
   "source": [
    "## Example: support vector machines on toy data \n",
    "\n",
    "<!-- using `scikit-learn` -->\n",
    "\n",
    "Get ready by importing the APIs needed from respective libraries."
   ]
  },
  {
   "cell_type": "code",
   "execution_count": null,
   "metadata": {},
   "outputs": [],
   "source": [
    "import numpy as np\n",
    "import matplotlib.pyplot as plt\n",
    "\n",
    "from sklearn.metrics import confusion_matrix, ConfusionMatrixDisplay, roc_curve, auc\n",
    "from sklearn.model_selection import train_test_split, GridSearchCV\n",
    "from sklearn.svm import SVC\n",
    "\n",
    "%matplotlib inline"
   ]
  },
  {
   "cell_type": "markdown",
   "metadata": {},
   "source": [
    "Define a function to plot a classifier with support vectors as in the previous section."
   ]
  },
  {
   "cell_type": "code",
   "execution_count": null,
   "metadata": {},
   "outputs": [],
   "source": [
    "def plot_svc(svc, X, y, h=0.02, pad=0.25):\n",
    "    x_min, x_max = X[:, 0].min() - pad, X[:, 0].max() + pad\n",
    "    y_min, y_max = X[:, 1].min() - pad, X[:, 1].max() + pad\n",
    "    xx, yy = np.meshgrid(np.arange(x_min, x_max, h), np.arange(y_min, y_max, h))\n",
    "    Z = svc.predict(np.c_[xx.ravel(), yy.ravel()])\n",
    "    Z = Z.reshape(xx.shape)\n",
    "    plt.contourf(xx, yy, Z, cmap=plt.cm.Paired, alpha=0.2)\n",
    "\n",
    "    plt.scatter(X[:, 0], X[:, 1], s=70, c=y, cmap=plt.cm.Paired)\n",
    "    # Support vectors indicated in plot by vertical lines\n",
    "    sv = svc.support_vectors_\n",
    "    plt.scatter(\n",
    "        sv[:, 0], sv[:, 1], c=\"k\", marker=\"x\", s=100, alpha=0.5\n",
    "    )  # , linewidths=1)\n",
    "    plt.xlim(x_min, x_max)\n",
    "    plt.ylim(y_min, y_max)\n",
    "    plt.xlabel(\"X1\")\n",
    "    plt.ylabel(\"X2\")\n",
    "    plt.show()\n",
    "    print(\"Number of support vectors: \", svc.support_.size)"
   ]
  },
  {
   "cell_type": "markdown",
   "metadata": {},
   "source": [
    "### Training SVMs\n",
    "\n",
    "Generate synthetic data randomly. Set a seed for reproducibility."
   ]
  },
  {
   "cell_type": "code",
   "execution_count": null,
   "metadata": {},
   "outputs": [],
   "source": [
    "np.random.seed(8)\n",
    "X = np.random.randn(200, 2)\n",
    "X[:100] = X[:100] + 2\n",
    "X[101:150] = X[101:150] - 2\n",
    "y = np.concatenate([np.repeat(-1, 150), np.repeat(1, 50)])\n",
    "\n",
    "X_train, X_test, y_train, y_test = train_test_split(X, y, test_size=0.5, random_state=2)\n",
    "\n",
    "plt.scatter(X[:, 0], X[:, 1], s=70, c=y, cmap=plt.cm.Paired)\n",
    "plt.xlabel(\"X1\")\n",
    "plt.ylabel(\"X2\")\n",
    "plt.show()"
   ]
  },
  {
   "cell_type": "markdown",
   "metadata": {},
   "source": [
    "Use the `SVC` class from `sklearn.svm` to train a support vector machine with a radial kernel. The `C` parameter is the inverse of the regularisation strength $ \\Omega $, and the `gamma` parameter is the inverse of the kernel width. The `fit` method trains the model."
   ]
  },
  {
   "cell_type": "code",
   "execution_count": null,
   "metadata": {},
   "outputs": [],
   "source": [
    "svm = SVC(C=1.0, kernel=\"rbf\", gamma=1)\n",
    "svm.fit(X_train, y_train)\n",
    "plot_svc(svm, X_train, y_train)"
   ]
  },
  {
   "cell_type": "markdown",
   "metadata": {},
   "source": [
    "Let us reduce the regularisation strength $ \\Omega $ by increasing the value of `C`. This results in a more flexible decision boundary, and will likely overfit the data. "
   ]
  },
  {
   "cell_type": "code",
   "execution_count": null,
   "metadata": {},
   "outputs": [],
   "source": [
    "svm2 = SVC(C=100, kernel=\"rbf\", gamma=1)\n",
    "svm2.fit(X_train, y_train)\n",
    "plot_svc(svm2, X_train, y_train)"
   ]
  },
  {
   "cell_type": "markdown",
   "metadata": {},
   "source": [
    "```{admonition} Challenge\n",
    ":class: tip\n",
    "Can you identify signs of overfitting in the plot?\n",
    "```"
   ]
  },
  {
   "cell_type": "markdown",
   "metadata": {},
   "source": [
    "Choose (tune) the (hyper)parameters `C` and `gamma` using cross-validation. The `GridSearchCV` class from `sklearn.model_selection` performs a grid search over the specified parameter values. The `cv` parameter specifies the number of folds in the cross-validation. The `fit` method trains the model."
   ]
  },
  {
   "cell_type": "code",
   "execution_count": null,
   "metadata": {
    "tags": [
     "hide-output"
    ]
   },
   "outputs": [],
   "source": [
    "tuned_parameters = {\"C\": [0.01, 0.1, 1, 10, 100], \"gamma\": [0.5, 1, 2, 3, 4]}\n",
    "clf = GridSearchCV(\n",
    "    SVC(kernel=\"rbf\"),\n",
    "    tuned_parameters,\n",
    "    cv=10,\n",
    "    scoring=\"accuracy\",\n",
    "    return_train_score=True,\n",
    ")\n",
    "clf.fit(X_train, y_train)\n",
    "clf.cv_results_"
   ]
  },
  {
   "cell_type": "markdown",
   "metadata": {},
   "source": [
    "Display the best combination of (hyper)parameters."
   ]
  },
  {
   "cell_type": "code",
   "execution_count": null,
   "metadata": {},
   "outputs": [],
   "source": [
    "clf.best_params_"
   ]
  },
  {
   "cell_type": "markdown",
   "metadata": {},
   "source": [
    "Show the prediction accuracy on the test set using the respective best model."
   ]
  },
  {
   "cell_type": "code",
   "execution_count": null,
   "metadata": {},
   "outputs": [],
   "source": [
    "cm = confusion_matrix(y_test, clf.best_estimator_.predict(X_test))\n",
    "disp = ConfusionMatrixDisplay(confusion_matrix=cm, display_labels=clf.classes_)\n",
    "disp.plot()\n",
    "plt.show()"
   ]
  },
  {
   "cell_type": "markdown",
   "metadata": {},
   "source": [
    "Compute the classification accuracy on the test set."
   ]
  },
  {
   "cell_type": "code",
   "execution_count": null,
   "metadata": {},
   "outputs": [],
   "source": [
    "clf.best_estimator_.score(X_test, y_test)"
   ]
  },
  {
   "cell_type": "markdown",
   "metadata": {},
   "source": [
    "This is the accuracy of the best model on the test set."
   ]
  },
  {
   "cell_type": "markdown",
   "metadata": {},
   "source": [
    "### Evaluation via ROC curves"
   ]
  },
  {
   "cell_type": "markdown",
   "metadata": {},
   "source": [
    "Now, let us compare the ROC curves of two models on the training/test data with different hyperparameter $\\gamma$ of RBF kernel. Set `probability=True` in the `SVC` constructor if you would like to have the class probability output. Read the [docs on scores and probabilities](https://scikit-learn.org/stable/modules/svm.html#scores-and-probabilities) of `scikit-learn` for more details.\n",
    "<!-- One model is more flexible than the other. -->"
   ]
  },
  {
   "cell_type": "markdown",
   "metadata": {},
   "source": [
    "Let us use a lightly larger value of `gamma` for the first model to compare."
   ]
  },
  {
   "cell_type": "code",
   "execution_count": null,
   "metadata": {},
   "outputs": [],
   "source": [
    "svm3 = SVC(C=1, kernel=\"rbf\", gamma=2, probability=True)\n",
    "svm3.fit(X_train, y_train)"
   ]
  },
  {
   "cell_type": "markdown",
   "metadata": {},
   "source": [
    "Let us use a larger value of `gamma` for the second model to compare. This will result in a more flexible decision boundary, and will likely overfit the data more."
   ]
  },
  {
   "cell_type": "code",
   "execution_count": null,
   "metadata": {},
   "outputs": [],
   "source": [
    "svm4 = SVC(C=1, kernel=\"rbf\", gamma=50, probability=True)\n",
    "svm4.fit(X_train, y_train)"
   ]
  },
  {
   "cell_type": "markdown",
   "metadata": {},
   "source": [
    "Let us plot the ROC curves of the two models on the training dataset and then on the test dataset."
   ]
  },
  {
   "cell_type": "code",
   "execution_count": null,
   "metadata": {},
   "outputs": [],
   "source": [
    "y_train_score3 = svm3.decision_function(X_train)\n",
    "y_train_score4 = svm4.decision_function(X_train)\n",
    "# comment the above two lines uncomment the following two lines to plot the ROC curves using probabilities\n",
    "# y_train_score3 = svm3.predict_proba(X_train)[:, 1]\n",
    "# y_train_score4 = svm4.predict_proba(X_train)[:, 1]\n",
    "\n",
    "false_pos_rate3, true_pos_rate3, _ = roc_curve(y_train, y_train_score3)\n",
    "roc_auc3 = auc(false_pos_rate3, true_pos_rate3)\n",
    "\n",
    "false_pos_rate4, true_pos_rate4, _ = roc_curve(y_train, y_train_score4)\n",
    "roc_auc4 = auc(false_pos_rate4, true_pos_rate4)\n",
    "\n",
    "fig, (ax1, ax2) = plt.subplots(1, 2, figsize=(14, 6))\n",
    "ax1.plot(\n",
    "    false_pos_rate3,\n",
    "    true_pos_rate3,\n",
    "    label=\"SVM $\\gamma = 1$ ROC curve (area = %0.2f)\" % roc_auc3,\n",
    "    color=\"b\",\n",
    ")\n",
    "ax1.plot(\n",
    "    false_pos_rate4,\n",
    "    true_pos_rate4,\n",
    "    label=\"SVM $\\gamma = 50$ ROC curve (area = %0.2f)\" % roc_auc4,\n",
    "    color=\"r\",\n",
    ")\n",
    "ax1.set_title(\"Training Data\")\n",
    "\n",
    "y_test_score3 = svm3.decision_function(X_test)\n",
    "y_test_score4 = svm4.decision_function(X_test)\n",
    "# comment the above two lines uncomment the following two lines to plot the ROC curves using probabilities\n",
    "# y_test_score3 = svm3.predict_proba(X_test)[:, 1]\n",
    "# y_test_score4 = svm4.predict_proba(X_test)[:, 1]\n",
    "\n",
    "false_pos_rate3, true_pos_rate3, _ = roc_curve(y_test, y_test_score3)\n",
    "roc_auc3 = auc(false_pos_rate3, true_pos_rate3)\n",
    "\n",
    "false_pos_rate4, true_pos_rate4, _ = roc_curve(y_test, y_test_score4)\n",
    "roc_auc4 = auc(false_pos_rate4, true_pos_rate4)\n",
    "\n",
    "ax2.plot(\n",
    "    false_pos_rate3,\n",
    "    true_pos_rate3,\n",
    "    label=\"SVM $\\gamma = 1$ ROC curve (area = %0.2f)\" % roc_auc3,\n",
    "    color=\"b\",\n",
    ")\n",
    "ax2.plot(\n",
    "    false_pos_rate4,\n",
    "    true_pos_rate4,\n",
    "    label=\"SVM $\\gamma = 50$ ROC curve (area = %0.2f)\" % roc_auc4,\n",
    "    color=\"r\",\n",
    ")\n",
    "ax2.set_title(\"Test Data\")\n",
    "\n",
    "for ax in fig.axes:\n",
    "    ax.plot([0, 1], [0, 1], \"k--\")\n",
    "    ax.set_xlim([-0.05, 1.0])\n",
    "    ax.set_ylim([0.0, 1.05])\n",
    "    ax.set_xlabel(\"False Positive Rate\")\n",
    "    ax.set_ylabel(\"True Positive Rate\")\n",
    "    ax.legend(loc=\"lower right\")"
   ]
  },
  {
   "cell_type": "markdown",
   "metadata": {},
   "source": [
    "As we can see from the above, the more flexible model (with $ \\gamma = 50 $) scores better (perfectly) on the training dataset but worse on the test dataset."
   ]
  },
  {
   "cell_type": "markdown",
   "metadata": {},
   "source": [
    "## SVM with more than two classes\n",
    "\n",
    "So far, our discussion has been limited to the case of binary classification, i.e. the two-class setting. How can we extend SVM (or logistic regression) to the more general case where we have some arbitrary number of classes? It turns out that the concept of separating hyperplanes upon which SVMs are based does not lend itself naturally to more than two classes. There are multiple ways to extend SVMs to the multi-class settings. The two most popular solutions are the one-versus-one and one-versus-all approaches. \n",
    "\n",
    "### One-vs-one\n",
    "\n",
    "Suppose that we would like to perform classification using SVMs, and there are $C$ > 2 classes. A one-versus-one or all-pairs approach constructs $C(C-1)/2$ binary classifiers, one for each pair of classes. For example, if there are three classes, then we would construct three binary classifiers, one for each pair of classes. The first classifier would distinguish between class 1 and class 2, the second classifier would distinguish between class 1 and class 3, and the third classifier would distinguish between class 2 and class 3. To classify a new observation, we would apply each of the three classifiers, and assign the observation to the class that receives the most votes.\n",
    "\n",
    "\n",
    "### One-vs-all\n",
    "\n",
    "The one-versus-all approach is an alternative procedure for applying SVMs in the case of $C$ > 2 classes. We fit $C$ SVMs, each time comparing one of the $C$ classes to the remaining $C − 1$ classes. For example, if there are three classes, then we would fit three SVMs, one for each class. The first SVM would separate class 1 from classes 2 and 3, the second SVM would separate class 2 from classes 1 and 3, and the third SVM would separate class 3 from classes 1 and 2. To classify a new observation, we would apply each of these three classifiers, and assign the observation to the class that receives the most votes.\n",
    "\n",
    "The following code shows how to train a multi-class SVM using `scikit-learn`. The strategy for multi-class classification is \"one vs one\" internally. However, we can get \"one vs rest\" hyperplane by setting `decision_function_shape='ovr'` in the `SVC` object.\n",
    "\n",
    "Add a third class of observations"
   ]
  },
  {
   "cell_type": "code",
   "execution_count": null,
   "metadata": {},
   "outputs": [],
   "source": [
    "XX = np.vstack([X, np.random.randn(50, 2)])\n",
    "yy = np.hstack([y, np.repeat(0, 50)])\n",
    "XX[yy == 0] = XX[yy == 0] + 4\n",
    "\n",
    "plt.scatter(XX[:, 0], XX[:, 1], s=70, c=yy, cmap=plt.cm.Paired)\n",
    "plt.xlabel(\"XX1\")\n",
    "plt.ylabel(\"XX2\");"
   ]
  },
  {
   "cell_type": "markdown",
   "metadata": {},
   "source": [
    "Use SVM with an RBF kernel to fit a three-class classifier and plot the decision boundaries."
   ]
  },
  {
   "cell_type": "code",
   "execution_count": null,
   "metadata": {},
   "outputs": [],
   "source": [
    "svm5 = SVC(C=1, kernel=\"rbf\")\n",
    "svm5.fit(XX, yy)\n",
    "plot_svc(svm5, XX, yy)"
   ]
  },
  {
   "cell_type": "markdown",
   "metadata": {},
   "source": [
    "We can see the classifying three classes (in 2D) is not easy, as expected."
   ]
  },
  {
   "cell_type": "markdown",
   "metadata": {},
   "source": [
    "## Exercises"
   ]
  },
  {
   "cell_type": "markdown",
   "metadata": {},
   "source": [
    "**1.** All the following exercises use the [Heart](https://github.com/pykale/transparentML/blob/main/data/Heart.csv) dataset.\n",
    "\n",
    "Load the **Heart** dataset, convert the values of variables (predictors) from categorical values to numerical values, and inspect the first five rows. "
   ]
  },
  {
   "cell_type": "code",
   "execution_count": null,
   "metadata": {},
   "outputs": [],
   "source": [
    "# Write your code below to answer the question"
   ]
  },
  {
   "cell_type": "markdown",
   "metadata": {},
   "source": [
    "*Compare your answer with the reference solution below*"
   ]
  },
  {
   "cell_type": "code",
   "execution_count": null,
   "metadata": {
    "tags": [
     "hide-cell"
    ]
   },
   "outputs": [],
   "source": [
    "import numpy as np\n",
    "import pandas as pd\n",
    "\n",
    "np.random.seed(2022)\n",
    "\n",
    "heart_url = \"https://github.com/pykale/transparentML/raw/main/data/Heart.csv\"\n",
    "\n",
    "heart_df = pd.read_csv(heart_url, index_col=0).dropna()\n",
    "# converting categories\n",
    "heart_df[\"ChestPain\"] = heart_df[\"ChestPain\"].factorize()[0]\n",
    "heart_df[\"Thal\"] = heart_df[\"Thal\"].factorize()[0]\n",
    "heart_df[\"AHD\"] = heart_df[\"AHD\"].factorize()[0]\n",
    "\n",
    "heart_df.head(5)"
   ]
  },
  {
   "cell_type": "markdown",
   "metadata": {},
   "source": [
    "**2**. Split the loaded dataset into training and testing sets in an $80:20$ ratio, then train a model using SVC using these hyperparameters: *C = 1, kernel = \"rbf, gamma = 0.01, probability = true*. Here, _kernel =\"rbf\"_ means we are using the RBF kernel to increase the dimensionality of the feature space, extending SVC into an SVM. Finally, show the number of support vectors and plot the AUROC curve of this trained model on the test set. (Use $2022$ as the random seed value)"
   ]
  },
  {
   "cell_type": "code",
   "execution_count": null,
   "metadata": {},
   "outputs": [],
   "source": [
    "# Write your code below to answer the question"
   ]
  },
  {
   "cell_type": "markdown",
   "metadata": {},
   "source": [
    "*Compare your answer with the reference solution below*"
   ]
  },
  {
   "cell_type": "code",
   "execution_count": null,
   "metadata": {
    "tags": [
     "hide-cell"
    ]
   },
   "outputs": [],
   "source": [
    "from sklearn.svm import SVC\n",
    "from sklearn.model_selection import train_test_split\n",
    "from sklearn.metrics import roc_curve, auc\n",
    "import matplotlib.pyplot as plt\n",
    "\n",
    "np.random.seed(2022)\n",
    "\n",
    "X = heart_df.drop([\"AHD\"], axis=1)\n",
    "y = heart_df[\"AHD\"]\n",
    "\n",
    "\n",
    "X_train, X_test, y_train, y_test = train_test_split(\n",
    "    X, y.ravel(), test_size=0.2, random_state=2022\n",
    ")\n",
    "\n",
    "svm = SVC(C=1, kernel=\"rbf\", gamma=0.01, probability=True, random_state=2022)\n",
    "svm.fit(X_train, y_train)\n",
    "print(\"Number of Support vectors: \", len(svm.support_vectors_))\n",
    "\n",
    "y_test_score = svm.decision_function(X_test)\n",
    "\n",
    "fpr, tpr, _ = roc_curve(y_test, y_test_score)\n",
    "roc_auc = auc(fpr, tpr)\n",
    "\n",
    "plt.plot(fpr, tpr, label=\"AUROC=\" + str(np.round(roc_auc, 2)))\n",
    "plt.ylabel(\"True Positive Rate\")\n",
    "plt.xlabel(\"False Positive Rate\")\n",
    "plt.legend(loc=4)\n",
    "plt.show()"
   ]
  },
  {
   "cell_type": "markdown",
   "metadata": {},
   "source": [
    "**3.** Train another model in the same manner as in **Exercise 2**, but with the hyperparameter regularisation strength $C$ set to $100$. Show the number of support vectors and plot the AUROC curve of this trained model on the test set."
   ]
  },
  {
   "cell_type": "code",
   "execution_count": null,
   "metadata": {},
   "outputs": [],
   "source": [
    "# Write your code below to answer the question"
   ]
  },
  {
   "cell_type": "markdown",
   "metadata": {},
   "source": [
    "*Compare your answer with the reference solution below*"
   ]
  },
  {
   "cell_type": "code",
   "execution_count": null,
   "metadata": {
    "tags": [
     "hide-cell"
    ]
   },
   "outputs": [],
   "source": [
    "svm = SVC(C=100, kernel=\"rbf\", gamma=0.01, probability=True, random_state=2022)\n",
    "svm.fit(X_train, y_train)\n",
    "print(\"Number of Support vectors: \", len(svm.support_vectors_))\n",
    "\n",
    "y_test_score = svm.decision_function(X_test)\n",
    "\n",
    "fpr, tpr, _ = roc_curve(y_test, y_test_score)\n",
    "roc_auc = auc(fpr, tpr)\n",
    "\n",
    "plt.plot(fpr, tpr, label=\"AUROC=\" + str(np.round(roc_auc, 2)))\n",
    "plt.ylabel(\"True Positive Rate\")\n",
    "plt.xlabel(\"False Positive Rate\")\n",
    "plt.legend(loc=4)\n",
    "plt.show()"
   ]
  },
  {
   "cell_type": "markdown",
   "metadata": {},
   "source": [
    "**4.** Using **GridSearchCV**, fine-tune the SVM hyperparameters ($C$ and $gamma$) on the training dataset (using $10$-fold cross-validation) for $C$ values of $0.001$, $0.01$, $0.1$, $5$ and $gamma$ values of $0.001$, $0.01$, $0.1$, $0.5$, $1$. Display the best hyperparameters value for $C$ and $gamma$. (Use the roc_auc scoring for choosing the best model and its hyperparameters)."
   ]
  },
  {
   "cell_type": "code",
   "execution_count": null,
   "metadata": {},
   "outputs": [],
   "source": [
    "# Write your code below to answer the question"
   ]
  },
  {
   "cell_type": "markdown",
   "metadata": {},
   "source": [
    "*Compare your answer with the reference solution below*"
   ]
  },
  {
   "cell_type": "code",
   "execution_count": null,
   "metadata": {
    "tags": [
     "hide-cell"
    ]
   },
   "outputs": [],
   "source": [
    "from sklearn.model_selection import GridSearchCV\n",
    "\n",
    "tuned_parameters = {\"C\": [0.01, 0.1, 1, 10, 100], \"gamma\": [0.001, 0.01, 0.1, 0.5, 1]}\n",
    "clf = GridSearchCV(\n",
    "    SVC(kernel=\"rbf\", probability=True, random_state=2022),\n",
    "    tuned_parameters,\n",
    "    cv=10,\n",
    "    scoring=\"roc_auc\",\n",
    "    return_train_score=True,\n",
    ")\n",
    "clf.fit(X_train, y_train)\n",
    "print(\"\\nOptimal parameters : \", clf.best_params_)"
   ]
  },
  {
   "cell_type": "markdown",
   "metadata": {},
   "source": [
    "**5.** Finally, using the best hyperparameters from **Exercise 4**, train another SVM model on the training dataset and plot the AUROC curve of this trained model on the test set."
   ]
  },
  {
   "cell_type": "code",
   "execution_count": null,
   "metadata": {},
   "outputs": [],
   "source": [
    "# Write your code below to answer the question"
   ]
  },
  {
   "cell_type": "markdown",
   "metadata": {},
   "source": [
    "*Compare your answer with the reference solution below*"
   ]
  },
  {
   "cell_type": "code",
   "execution_count": null,
   "metadata": {
    "tags": [
     "hide-cell"
    ]
   },
   "outputs": [],
   "source": [
    "svm = SVC(C=1, kernel=\"rbf\", gamma=0.001, probability=True, random_state=2022)\n",
    "svm.fit(X_train, y_train)\n",
    "print(\"Number of Support vectors: \", len(svm.support_vectors_))\n",
    "\n",
    "y_test_score = svm.decision_function(X_test)\n",
    "\n",
    "fpr, tpr, _ = roc_curve(y_test, y_test_score)\n",
    "roc_auc = auc(fpr, tpr)\n",
    "\n",
    "plt.plot(fpr, tpr, label=\"AUROC=\" + str(np.round(roc_auc, 2)))\n",
    "plt.ylabel(\"True Positive Rate\")\n",
    "plt.xlabel(\"False Positive Rate\")\n",
    "plt.legend(loc=4)\n",
    "plt.show()"
   ]
  }
 ],
 "metadata": {
  "kernelspec": {
   "display_name": "Python 3 (ipykernel)",
   "language": "python",
   "name": "python3"
  }
 },
 "nbformat": 4,
 "nbformat_minor": 1
}
