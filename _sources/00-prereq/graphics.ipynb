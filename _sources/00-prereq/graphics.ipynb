{
 "cells": [
  {
   "cell_type": "markdown",
   "metadata": {},
   "source": [
    "# Graphics\n",
    "\n",
    "```{admonition} Read then Launch \n",
    "This content is best viewed in html because jupyter notebook cannot display some content (e.g. figures, equations) properly. You should finish reading this page first and then launch it as an interactive notebook in Google Colab (faster, Google account needed) or Binder by clicking the rocket symbol (<i class=\"fas fa-rocket\"></i>) at the top.\n",
    "```\n",
    "\n",
    "## Plotting figures using `matplotlib` and `seaborn`\n",
    "In python, matplotlib is the most used library for plot. `matplotlib.pyplot` is a collection of command style functions that make matplotlib work like [MATLAB](https://en.wikipedia.org/wiki/MATLAB) (a popular programming language). The `pyplot.plot()` function is used to plot lines, and the `pyplot.scatter()` function is used to plot points. The `pyplot.plot()` and `pyplot.scatter()` functions will generate an output figure object, which can be displayed by the `pyplot.show()` function. In addition, the `pyplot.savefig()` function can be used to save the figure object to a file."
   ]
  },
  {
   "cell_type": "code",
   "execution_count": null,
   "metadata": {},
   "outputs": [],
   "source": [
    "import numpy as np\n",
    "from matplotlib import pyplot as plt\n",
    "\n",
    "%matplotlib inline\n",
    "\n",
    "x = np.random.normal(0, 1, 100)\n",
    "y = np.random.normal(0, 1, 100)\n",
    "\n",
    "plt.scatter(x, y, c=\"b\")  # please use plt.plot? to look at more options\n",
    "plt.ylabel(\"this is the y-axis\")\n",
    "plt.xlabel(\"this is the x-axis\")\n",
    "plt.title(\"Plot of X vs Y\")\n",
    "plt.savefig(\"Figure.pdf\")  # use plt.savefig function to save images\n",
    "plt.show()"
   ]
  },
  {
   "cell_type": "markdown",
   "metadata": {},
   "source": [
    "Use `plt.scatter?` and `plt.plot?` to see the documentation of these functions.\n",
    "\n",
    "Next, we will create a more sophisticated plot using the `pyplot.contour()` function. The `pyplot.contour()` function can be used to plot contour lines of a function. The `pyplot.contour()` function takes three arguments: `x`, `y`, and `z`. `x` and `y` are 1D arrays of `x` and `y` coordinates of the grid points, and `z` is a 2D array of `z` coordinates of the grid points. The `pyplot.contour()` function returns a `ContourSet` object, which can be used to add labels to the contour lines. \n",
    "\n",
    "First, let us create the data needed for the contour plot."
   ]
  },
  {
   "cell_type": "code",
   "execution_count": null,
   "metadata": {},
   "outputs": [],
   "source": [
    "# in order to use Pi, math module needs to loaded first\n",
    "import math\n",
    "\n",
    "x = np.linspace(-math.pi, math.pi, num=50)\n",
    "print(x)"
   ]
  },
  {
   "cell_type": "markdown",
   "metadata": {},
   "source": [
    "Use `numpy.meshgrid()` to create a rectangular grid out of an array of `x` values and an array of `y` values. \n",
    "\n",
    "<!-- The `numpy.meshgrid()` function takes two 1D arrays and produces two 2D matrices corresponding to all pairs of `(x, y)` in the two arrays. -->"
   ]
  },
  {
   "cell_type": "code",
   "execution_count": null,
   "metadata": {},
   "outputs": [],
   "source": [
    "import matplotlib.cm as cm\n",
    "import matplotlib.mlab as mlab\n",
    "\n",
    "y = x\n",
    "X, Y = np.meshgrid(x, y)"
   ]
  },
  {
   "cell_type": "markdown",
   "metadata": {},
   "source": [
    "`%whos` is a magic function that lists all the variables in the current workspace."
   ]
  },
  {
   "cell_type": "code",
   "execution_count": null,
   "metadata": {},
   "outputs": [],
   "source": [
    "%whos"
   ]
  },
  {
   "cell_type": "markdown",
   "metadata": {},
   "source": [
    "Use `plt.contour()` to plot contour lines."
   ]
  },
  {
   "cell_type": "code",
   "execution_count": null,
   "metadata": {},
   "outputs": [],
   "source": [
    "# same as above,\n",
    "f = np.cos(Y) / (1 + np.square(X))\n",
    "CS = plt.contour(X, Y, f)\n",
    "plt.show()"
   ]
  },
  {
   "cell_type": "code",
   "execution_count": null,
   "metadata": {},
   "outputs": [],
   "source": [
    "f.shape"
   ]
  },
  {
   "cell_type": "markdown",
   "metadata": {},
   "source": [
    "Similarly, use `plt.contour?` to see the documentation of the `pyplot.contour()` function.\n",
    "\n",
    "2D arrays can also be visualised by the `imshow()` function, which produces colour-coded plot."
   ]
  },
  {
   "cell_type": "code",
   "execution_count": null,
   "metadata": {},
   "outputs": [],
   "source": [
    "fa = (f - f.T) / 2  # f.T for transpose or tranpose(f)\n",
    "plt.imshow(fa, extent=(x[0], x[-1], y[0], y[-1]))\n",
    "plt.show()"
   ]
  },
  {
   "cell_type": "markdown",
   "metadata": {},
   "source": [
    "This figure is also known as [heatmap](https://en.wikipedia.org/wiki/Heat_map). In Python, there is another package called `seaborn` that can be used to create heatmap."
   ]
  },
  {
   "cell_type": "code",
   "execution_count": null,
   "metadata": {
    "tags": [
     "hide-output"
    ]
   },
   "outputs": [],
   "source": [
    "import seaborn as sns\n",
    "\n",
    "sns.heatmap(f)\n",
    "plt.show()"
   ]
  },
  {
   "cell_type": "markdown",
   "metadata": {},
   "source": [
    "For more information, please use `sns.heatmap?` to see the documentation of the `sns.heatmap()` function.\n",
    "\n",
    "The following example produces a 3D plot."
   ]
  },
  {
   "cell_type": "code",
   "execution_count": null,
   "metadata": {},
   "outputs": [],
   "source": [
    "from mpl_toolkits.mplot3d import axes3d\n",
    "\n",
    "fig = plt.figure()\n",
    "ax = fig.add_subplot(111, projection=\"3d\")\n",
    "ax.plot_wireframe(X, Y, fa)\n",
    "plt.show()"
   ]
  },
  {
   "cell_type": "markdown",
   "metadata": {},
   "source": [
    "\n",
    "## Exercises"
   ]
  },
  {
   "cell_type": "markdown",
   "metadata": {},
   "source": [
    "**1**. Create $20$ equally spaced data between $45$ and $130$ as $x$ and $20$ equally spaced data between $10$ and $85$ as $y$.  "
   ]
  },
  {
   "cell_type": "code",
   "execution_count": null,
   "metadata": {},
   "outputs": [],
   "source": [
    "# Write your code below to answer the question"
   ]
  },
  {
   "cell_type": "markdown",
   "metadata": {},
   "source": [
    "*Compare your answer with the reference solution below*"
   ]
  },
  {
   "cell_type": "code",
   "execution_count": null,
   "metadata": {
    "tags": [
     "hide-cell"
    ]
   },
   "outputs": [],
   "source": [
    "import math\n",
    "import numpy as np\n",
    "\n",
    "x = np.linspace(45, 130, num=20)\n",
    "y = np.linspace(10, 85, num=20)"
   ]
  },
  {
   "cell_type": "markdown",
   "metadata": {},
   "source": [
    "**2**. **Visualise** the data from **Exercise 1** above into a 2-dimensional space with proper labels. "
   ]
  },
  {
   "cell_type": "code",
   "execution_count": null,
   "metadata": {},
   "outputs": [],
   "source": [
    "# Write your code below to answer the question"
   ]
  },
  {
   "cell_type": "markdown",
   "metadata": {},
   "source": [
    "*Compare your answer with the reference solution below*"
   ]
  },
  {
   "cell_type": "code",
   "execution_count": null,
   "metadata": {
    "tags": [
     "hide-cell"
    ]
   },
   "outputs": [],
   "source": [
    "from matplotlib import pyplot as plt\n",
    "\n",
    "plt.scatter(x, y, c=\"b\")\n",
    "plt.ylabel(\"this is the y-axis\")\n",
    "plt.xlabel(\"this is the x-axis\")\n",
    "plt.title(\"Plot of x vs y\")\n",
    "plt.show()"
   ]
  },
  {
   "cell_type": "markdown",
   "metadata": {},
   "source": [
    "**3**. Use the data from **Exercise 1** above to plot a **heatmap** and a **3-dimensional** projection."
   ]
  },
  {
   "cell_type": "code",
   "execution_count": null,
   "metadata": {},
   "outputs": [],
   "source": [
    "# Write your code below to answer the question"
   ]
  },
  {
   "cell_type": "markdown",
   "metadata": {},
   "source": [
    "*Compare your answer with the reference solution below*"
   ]
  },
  {
   "cell_type": "code",
   "execution_count": null,
   "metadata": {
    "tags": [
     "hide-cell"
    ]
   },
   "outputs": [],
   "source": [
    "import seaborn as sns\n",
    "from mpl_toolkits.mplot3d import axes3d\n",
    "\n",
    "X, Y = np.meshgrid(x, y)\n",
    "f = np.cos(Y) / (1 + np.square(X))\n",
    "sns.heatmap(f)\n",
    "plt.show()\n",
    "\n",
    "\n",
    "fig = plt.figure()\n",
    "ax = fig.add_subplot(111, projection=\"3d\")\n",
    "fa = (f - f.T) / 2\n",
    "ax.plot_wireframe(X, Y, fa)\n",
    "plt.show()"
   ]
  }
 ],
 "metadata": {
  "kernelspec": {
   "display_name": "Python 3 (ipykernel)",
   "language": "python",
   "name": "python3"
  }
 },
 "nbformat": 4,
 "nbformat_minor": 2
}
