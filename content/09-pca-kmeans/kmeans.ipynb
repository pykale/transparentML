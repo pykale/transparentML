{
 "cells": [
  {
   "cell_type": "markdown",
   "metadata": {},
   "source": [
    "# $K$-means clustering "
   ]
  },
  {
   "cell_type": "code",
   "execution_count": null,
   "metadata": {},
   "outputs": [],
   "source": [
    "import pandas as pd\n",
    "import numpy as np\n",
    "from numpy.linalg import svd\n",
    "import matplotlib as mpl\n",
    "import matplotlib.pyplot as plt\n",
    "\n",
    "from sklearn.preprocessing import StandardScaler\n",
    "from sklearn.decomposition import PCA\n",
    "from sklearn.cluster import KMeans\n",
    "from scipy.cluster import hierarchy\n",
    "\n",
    "%matplotlib inline"
   ]
  },
  {
   "cell_type": "code",
   "execution_count": null,
   "metadata": {},
   "outputs": [],
   "source": [
    "# generate data\n",
    "np.random.seed(21)\n",
    "X = np.random.standard_normal((50, 2))\n",
    "X[:25, 0] = X[:25, 0] + 3\n",
    "X[:25, 1] = X[:25, 1] - 4"
   ]
  },
  {
   "cell_type": "code",
   "execution_count": null,
   "metadata": {},
   "outputs": [],
   "source": [
    "n_clusters = 2\n",
    "km1 = KMeans(n_clusters=n_clusters, n_init=20)\n",
    "km1.fit(X)\n",
    "\n",
    "n_clusters = 3\n",
    "km2 = KMeans(n_clusters=n_clusters, n_init=20)\n",
    "km2.fit(X)"
   ]
  },
  {
   "cell_type": "code",
   "execution_count": null,
   "metadata": {},
   "outputs": [],
   "source": [
    "print(km1.labels_)\n",
    "print(dir(km1))  # we can use dir to see other saved attributes"
   ]
  },
  {
   "cell_type": "code",
   "execution_count": null,
   "metadata": {},
   "outputs": [],
   "source": [
    "fig, (ax1, ax2) = plt.subplots(1, 2, figsize=(14, 5))\n",
    "\n",
    "ax1.scatter(X[:, 0], X[:, 1], s=40, c=km1.labels_, cmap=plt.cm.prism)\n",
    "ax1.set_title(\"K-Means Clustering Results with K=2\")\n",
    "ax1.scatter(\n",
    "    km1.cluster_centers_[:, 0],\n",
    "    km1.cluster_centers_[:, 1],\n",
    "    marker=\"+\",\n",
    "    s=100,\n",
    "    c=\"k\",\n",
    "    linewidth=2,\n",
    ")\n",
    "\n",
    "ax2.scatter(X[:, 0], X[:, 1], s=40, c=km2.labels_, cmap=plt.cm.prism)\n",
    "ax2.set_title(\"K-Means Clustering Results with K=3\")\n",
    "ax2.scatter(\n",
    "    km2.cluster_centers_[:, 0],\n",
    "    km2.cluster_centers_[:, 1],\n",
    "    marker=\"+\",\n",
    "    s=100,\n",
    "    c=\"k\",\n",
    "    linewidth=2,\n",
    ")\n",
    "plt.show()"
   ]
  },
  {
   "cell_type": "markdown",
   "metadata": {},
   "source": [
    "Hierarchical Clustering"
   ]
  },
  {
   "cell_type": "code",
   "execution_count": null,
   "metadata": {},
   "outputs": [],
   "source": [
    "fig, (ax1, ax2, ax3) = plt.subplots(3, 1, figsize=(15, 18))\n",
    "\n",
    "for linkage, cluster, ax in zip(\n",
    "    [hierarchy.complete(X), hierarchy.average(X), hierarchy.single(X)],\n",
    "    [\"c1\", \"c2\", \"c3\"],\n",
    "    [ax1, ax2, ax3],\n",
    "):\n",
    "    cluster = hierarchy.dendrogram(linkage, ax=ax, color_threshold=0)\n",
    "\n",
    "ax1.set_title(\"Complete Linkage\")\n",
    "ax2.set_title(\"Average Linkage\")\n",
    "ax3.set_title(\"Single Linkage\")\n",
    "plt.show()"
   ]
  },
  {
   "cell_type": "markdown",
   "metadata": {},
   "source": [
    "Clustering the Observations of the NCI60 Data"
   ]
  },
  {
   "cell_type": "code",
   "execution_count": null,
   "metadata": {},
   "outputs": [],
   "source": [
    "X = pd.read_csv(\"https://github.com/pykale/transparentML/raw/main/data/NCI60_data.csv\")\n",
    "y = pd.read_csv(\"https://github.com/pykale/transparentML/raw/main/data/NCI60_labs.csv\")"
   ]
  },
  {
   "cell_type": "code",
   "execution_count": null,
   "metadata": {},
   "outputs": [],
   "source": [
    "scaler = StandardScaler()\n",
    "X_scaled = pd.DataFrame(scaler.fit_transform(X), index=y.iloc[:, 0], columns=X.columns)"
   ]
  },
  {
   "cell_type": "code",
   "execution_count": null,
   "metadata": {},
   "outputs": [],
   "source": [
    "fig, (ax1, ax2, ax3) = plt.subplots(1, 3, figsize=(20, 20))\n",
    "\n",
    "for linkage, cluster, ax in zip(\n",
    "    [hierarchy.complete(X_scaled), hierarchy.average(X), hierarchy.single(X_scaled)],\n",
    "    [\"c1\", \"c2\", \"c3\"],\n",
    "    [ax1, ax2, ax3],\n",
    "):\n",
    "    cluster = hierarchy.dendrogram(\n",
    "        linkage,\n",
    "        labels=X_scaled.index,\n",
    "        orientation=\"right\",\n",
    "        color_threshold=0,\n",
    "        leaf_font_size=10,\n",
    "        ax=ax,\n",
    "    )\n",
    "\n",
    "ax1.set_title(\"Complete Linkage\")\n",
    "ax2.set_title(\"Average Linkage\")\n",
    "ax3.set_title(\"Single Linkage\")\n",
    "plt.show()"
   ]
  },
  {
   "cell_type": "code",
   "execution_count": null,
   "metadata": {},
   "outputs": [],
   "source": [
    "plt.figure(figsize=(10, 20))\n",
    "cut4 = hierarchy.dendrogram(\n",
    "    hierarchy.complete(X_scaled),\n",
    "    labels=X_scaled.index,\n",
    "    orientation=\"right\",\n",
    "    color_threshold=140,\n",
    "    leaf_font_size=10,\n",
    ")\n",
    "plt.vlines(\n",
    "    140, 0, plt.gca().yaxis.get_data_interval()[1], colors=\"r\", linestyles=\"dashed\"\n",
    ")\n",
    "plt.show()"
   ]
  },
  {
   "cell_type": "markdown",
   "metadata": {},
   "source": [
    "$K$-means"
   ]
  },
  {
   "cell_type": "code",
   "execution_count": null,
   "metadata": {},
   "outputs": [],
   "source": [
    "np.random.seed(21)\n",
    "km3 = KMeans(n_clusters=4, n_init=50)\n",
    "km3.fit(X_scaled)"
   ]
  },
  {
   "cell_type": "code",
   "execution_count": null,
   "metadata": {},
   "outputs": [],
   "source": [
    "km3.labels_"
   ]
  },
  {
   "cell_type": "markdown",
   "metadata": {},
   "source": [
    "Combine with PCA"
   ]
  },
  {
   "cell_type": "code",
   "execution_count": null,
   "metadata": {},
   "outputs": [],
   "source": [
    "pca = PCA()\n",
    "X_scaled_ = StandardScaler().fit_transform(X)\n",
    "df_plot = pd.DataFrame(pca.fit_transform(X_scaled_))"
   ]
  },
  {
   "cell_type": "code",
   "execution_count": null,
   "metadata": {},
   "outputs": [],
   "source": [
    "plt.figure(figsize=(10, 20))\n",
    "pca_cluster = hierarchy.dendrogram(\n",
    "    hierarchy.complete(X_scaled),\n",
    "    labels=X_scaled.index,\n",
    "    orientation=\"right\",\n",
    "    color_threshold=100,\n",
    "    leaf_font_size=10,\n",
    ")"
   ]
  },
  {
   "cell_type": "code",
   "execution_count": null,
   "metadata": {},
   "outputs": [],
   "source": [
    "# Hierarchy based on Principal Components 1 to 5\n",
    "plt.figure(figsize=(10, 20))\n",
    "pca_cluster = hierarchy.dendrogram(\n",
    "    hierarchy.complete(df_plot.iloc[:, :5]),\n",
    "    labels=X_scaled.index,\n",
    "    orientation=\"right\",\n",
    "    color_threshold=100,\n",
    "    leaf_font_size=10,\n",
    ")"
   ]
  },
  {
   "cell_type": "markdown",
   "metadata": {},
   "source": [
    "## Exercises\n",
    "\n",
    "min 3 max 5\n",
    "\n"
   ]
  }
 ],
 "metadata": {
  "kernelspec": {
   "display_name": "Python 3.9.7 ('pykale')",
   "language": "python",
   "name": "python3"
  }
 },
 "nbformat": 4,
 "nbformat_minor": 2
}
